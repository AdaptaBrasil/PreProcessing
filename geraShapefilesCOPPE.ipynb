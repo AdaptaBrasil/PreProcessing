{
 "cells": [
  {
   "cell_type": "markdown",
   "source": [
    "### Gera shapefiles COPPE"
   ],
   "metadata": {
    "collapsed": false,
    "pycharm": {
     "name": "#%% md\n"
    }
   }
  },
  {
   "cell_type": "code",
   "execution_count": null,
   "outputs": [],
   "source": [
    "! pip install pandas\n",
    "! pip install geopandas\n",
    "! pip install sqlalchemy\n",
    "! pip install psycopg2\n",
    "! pip install GeoAlchemy2\n",
    "! pip install openpyxl\n",
    "! pip install matplotlib"
   ],
   "metadata": {
    "collapsed": false,
    "pycharm": {
     "name": "#%%\n",
     "is_executing": true
    }
   }
  },
  {
   "cell_type": "code",
   "execution_count": 3,
   "outputs": [],
   "source": [
    "! pip freeze > requirements.txt"
   ],
   "metadata": {
    "collapsed": false,
    "pycharm": {
     "name": "#%%\n"
    }
   }
  },
  {
   "cell_type": "code",
   "execution_count": 1,
   "outputs": [],
   "source": [
    "import pandas as pd\n",
    "import geopandas as gpd\n",
    "from sqlalchemy import create_engine\n",
    "import glob\n",
    "import matplotlib as plt\n",
    "from matplotlib import pyplot\n",
    "import os\n",
    "import shutil"
   ],
   "metadata": {
    "collapsed": false,
    "pycharm": {
     "name": "#%%\n"
    }
   }
  },
  {
   "cell_type": "code",
   "execution_count": 2,
   "outputs": [],
   "source": [
    "dataPath = f'D:\\Atrium\\Projects\\AdaptaBrasil\\Data\\COPPE\\\\'\n",
    "outputPath = f'D:\\Atrium\\Projects\\AdaptaBrasil\\Data\\COPPE\\\\output\\\\'\n",
    "shpName = 'AdaptaBrasil4.shp'\n",
    "xlsName = 'valores_economicos.xlsx'"
   ],
   "metadata": {
    "collapsed": false,
    "pycharm": {
     "name": "#%%\n"
    }
   }
  },
  {
   "cell_type": "code",
   "execution_count": 3,
   "outputs": [],
   "source": [
    "gdf = gpd.read_file(dataPath+shpName)"
   ],
   "metadata": {
    "collapsed": false,
    "pycharm": {
     "name": "#%%\n"
    }
   }
  },
  {
   "cell_type": "code",
   "execution_count": 4,
   "outputs": [],
   "source": [
    "df = pd.read_excel(dataPath+xlsName)"
   ],
   "metadata": {
    "collapsed": false,
    "pycharm": {
     "name": "#%%\n"
    }
   }
  },
  {
   "cell_type": "code",
   "execution_count": 5,
   "outputs": [
    {
     "name": "stdout",
     "output_type": "stream",
     "text": [
      "Index(['ID', 'NOME', 'GEOCOD_IB', 'CLASSE', 'UF', 'geometry'], dtype='object')\n",
      "Index(['id', 'nome', '1000-2030-I', '1000-2050-I', '1000-2030-M',\n",
      "       '1000-2050-M', '1000-2030-D', '1000-2050-D', '1001-2019', '1001-2030-I',\n",
      "       '1001-2050-I', '1001-2030-M', '1001-2050-M', '1001-2030-D',\n",
      "       '1001-2050-D', '1002-2020', '1002-2030-I', '1002-2050-I', '1002-2030-M',\n",
      "       '1002-2050-M', '1002-2030-D', '1002-2050-D', '1003-2020', '1003-2030-I',\n",
      "       '1003-2050-I', '1003-2030-M', '1003-2050-M', '1003-2030-D',\n",
      "       '1003-2050-D', '1004-2020', '1004-2030-I', '1004-2050-I', '1004-2030-M',\n",
      "       '1004-2050-M', '1004-2030-D', '1004-2050-D', '1005-2019', '1005-2030-I',\n",
      "       '1005-2050-I', '1005-2030-M', '1005-2050-M', '1005-2030-D',\n",
      "       '1005-2050-D', '1006-2020', '1006-2030-I', '1006-2050-I', '1006-2030-M',\n",
      "       '1006-2050-M', '1006-2030-D', '1006-2050-D', '1007-2030-I',\n",
      "       '1007-2050-I', '1008-2030-I', '1008-2050-I', '1009-2030-I',\n",
      "       '1009-2050-I', '1010-2030-I', '1010-2050-I', '1011-2030-I',\n",
      "       '1011-2050-I', '1012-2030-I', '1012-2050-I', '1013-2030-I',\n",
      "       '1013-2050-I'],\n",
      "      dtype='object')\n"
     ]
    }
   ],
   "source": [
    "print(gdf.columns)\n",
    "print(df.columns)\n",
    "#print(gdf.head(1))\n",
    "#print(df.head(1))"
   ],
   "metadata": {
    "collapsed": false,
    "pycharm": {
     "name": "#%%\n"
    }
   }
  },
  {
   "cell_type": "code",
   "execution_count": 6,
   "outputs": [
    {
     "name": "stdout",
     "output_type": "stream",
     "text": [
      "Index(['ID', 'GEOCOD_IB', 'CLASSE', 'UF', 'geometry'], dtype='object')\n"
     ]
    }
   ],
   "source": [
    "gdf = gdf.drop('NOME', axis=1)\n",
    "print(gdf.columns)"
   ],
   "metadata": {
    "collapsed": false,
    "pycharm": {
     "name": "#%%\n"
    }
   }
  },
  {
   "cell_type": "code",
   "execution_count": 7,
   "outputs": [
    {
     "name": "stdout",
     "output_type": "stream",
     "text": [
      "Index(['ID', 'GEOCOD_IB', 'CLASSE', 'nome', 'geometry'], dtype='object')\n"
     ]
    }
   ],
   "source": [
    "gdf.columns = ['ID', 'GEOCOD_IB', 'CLASSE', 'nome', 'geometry']\n",
    "print(gdf.columns)"
   ],
   "metadata": {
    "collapsed": false,
    "pycharm": {
     "name": "#%%\n"
    }
   }
  },
  {
   "cell_type": "code",
   "execution_count": 8,
   "outputs": [],
   "source": [
    "merged = gpd.GeoDataFrame(df.merge(gdf, on=\"nome\"))"
   ],
   "metadata": {
    "collapsed": false,
    "pycharm": {
     "name": "#%%\n"
    }
   }
  },
  {
   "cell_type": "code",
   "execution_count": 9,
   "outputs": [
    {
     "data": {
      "text/plain": "    id nome  1000-2030-I  1000-2050-I  1000-2030-M  1000-2050-M  1000-2030-D  \\\n0   11   RO          NaN     0.012192          NaN    -0.016386          NaN   \n1   12   AC          NaN     0.001141          NaN    -0.021861          NaN   \n2   13   AM          NaN    -0.007878          NaN    -0.020490          NaN   \n3   14   RR          NaN    -0.001788          NaN    -0.016821          NaN   \n4   15   PA          NaN     0.008829          NaN    -0.016136          NaN   \n5   16   AP          NaN     0.009004          NaN    -0.023499          NaN   \n6   17   TO          NaN     0.025680          NaN    -0.006730          NaN   \n7   21   MA          NaN     0.028872          NaN    -0.010579          NaN   \n8   22   PI          NaN     0.021136          NaN    -0.008687          NaN   \n9   23   CE          NaN    -0.001354          NaN    -0.018327          NaN   \n10  24   RN          NaN     0.001995          NaN    -0.011086          NaN   \n11  25   PB          NaN     0.019061          NaN    -0.001696          NaN   \n12  26   PE          NaN     0.022082          NaN     0.003521          NaN   \n13  27   AL          NaN     0.032243          NaN     0.020836          NaN   \n14  28   SE          NaN     0.004448          NaN    -0.010323          NaN   \n15  29   BA          NaN     0.013669          NaN    -0.012855          NaN   \n16  31   MG          NaN     0.016430          NaN    -0.006602          NaN   \n17  32   ES          NaN    -0.001454          NaN    -0.017966          NaN   \n18  33   RJ          NaN    -0.013608          NaN    -0.022291          NaN   \n19  34   SP          NaN    -0.000333          NaN    -0.008120          NaN   \n20  41   PR          NaN    -0.014845          NaN    -0.012996          NaN   \n21  42   SC          NaN    -0.031224          NaN    -0.019681          NaN   \n22  43   RS          NaN    -0.022840          NaN    -0.006246          NaN   \n23  50   MS          NaN     0.030087          NaN     0.009865          NaN   \n24  51   MT          NaN     0.033989          NaN    -0.002407          NaN   \n25  52   GO          NaN     0.034029          NaN     0.008225          NaN   \n26  53   DF          NaN    -0.001227          NaN    -0.016315          NaN   \n\n    1000-2050-D  1001-2019  1001-2030-I  ...  1011-2030-I  1011-2050-I  \\\n0     -0.028578      47091       0.2546  ...    -0.022215    -0.065176   \n1     -0.023002      15630       0.1964  ...    -0.001407    -0.004215   \n2     -0.012612     108181       0.3056  ...    -0.000551    -0.001652   \n3     -0.015033      14292       0.1818  ...     0.000000     0.000000   \n4     -0.024965     178377       0.2838  ...    -0.000953    -0.002857   \n5     -0.032503      17497       0.2101  ...     0.000000     0.000000   \n6     -0.032410      39356       0.2279  ...     0.000000     0.000000   \n7     -0.039451      97340       0.2516  ...     0.000000     0.000000   \n8     -0.029823      52781       0.1972  ...     0.000000     0.000000   \n9     -0.016972     163575       0.2396  ...     0.000649     0.001947   \n10    -0.013081      71337       0.2097  ...     0.000000     0.000000   \n11    -0.020757      67986       0.1670  ...     0.000000     0.000000   \n12    -0.018561     197853       0.2150  ...     0.000037     0.000112   \n13    -0.011407      58964       0.2356  ...     0.000000     0.000000   \n14    -0.014771      44689       0.2465  ...     0.000000     0.000000   \n15    -0.026524     293241       0.2774  ...    -0.001457    -0.004366   \n16    -0.023032     651873       0.2996  ...    -0.041235    -0.118673   \n17    -0.016512     137346       0.3236  ...    -0.004147    -0.012390   \n18    -0.008682     779928       0.2769  ...    -0.005778    -0.017234   \n19    -0.007787    2348338       0.3185  ...    -0.003505    -0.010479   \n20     0.001849     466377       0.3116  ...    -0.003710    -0.011090   \n21     0.011542     323264       0.3129  ...     0.000000     0.000000   \n22     0.016593     482464       0.3070  ...     0.000000     0.000000   \n23    -0.020222     106943       0.2925  ...    -0.000125    -0.000375   \n24    -0.036396     142122       0.2935  ...    -0.000100    -0.000300   \n25    -0.025804     208672       0.2691  ...    -0.000589    -0.001765   \n26    -0.015088     273614       0.1779  ...    -0.001344    -0.004026   \n\n    1012-2030-I  1012-2050-I  1013-2030-I  1013-2050-I  ID  GEOCOD_IB  \\\n0      0.000087     0.000262     0.055135     0.165406  26         26   \n1      0.000524     0.001573     0.048461     0.145384   1          1   \n2     -0.003608    -0.010784     0.027424     0.082272  27         27   \n3     -0.000275    -0.000826     0.041330     0.123989  20         20   \n4     -0.001596    -0.004782     0.063317     0.189950  13         13   \n5     -0.008990    -0.026729     0.046990     0.140969   3          3   \n6     -0.000025    -0.000075     0.064173     0.192520  24         24   \n7     -0.000063    -0.000188     0.074499     0.223496   9          9   \n8     -0.000088    -0.000263     0.055151     0.165454  16         16   \n9     -0.000300    -0.000901     0.047198     0.141595   5          5   \n10     0.000012     0.000037     0.042990     0.128970  18         18   \n11    -0.000113    -0.000338     0.045340     0.136020  14         14   \n12    -0.000050    -0.000150     0.044797     0.134392  15         15   \n13    -0.000476    -0.001427     0.038901     0.116703   2          2   \n14    -0.021021    -0.061746     0.041399     0.124197  23         23   \n15    -0.002154    -0.006447     0.054005     0.162015   4          4   \n16    -0.001799    -0.005387     0.045020     0.135061  12         12   \n17    -0.000100    -0.000300     0.046259     0.138777   7          7   \n18    -0.003160    -0.009449     0.031168     0.093504  17         17   \n19    -0.013743    -0.040666     0.018795     0.056386  22         22   \n20    -0.001079    -0.003234    -0.022598    -0.067795  25         25   \n21    -0.000401    -0.001201    -0.049496    -0.148487  21         21   \n22    -0.001230    -0.003686    -0.052709    -0.158126  19         19   \n23    -0.000088    -0.000263     0.028799     0.086397  11         11   \n24     0.000000     0.000000     0.057852     0.173556  10         10   \n25    -0.000388    -0.001164     0.052685     0.158056   8          8   \n26    -0.000689    -0.002066     0.047240     0.141720   6          6   \n\n         CLASSE                                           geometry  \n0         Medio  POLYGON ((-62.87000 -7.98000, -62.86000 -7.980...  \n1         Baixo  POLYGON ((-73.18000 -7.34000, -72.58000 -7.550...  \n2         Medio  POLYGON ((-67.33000 2.03000, -67.32000 2.00000...  \n3         Medio  POLYGON ((-60.20000 5.26000, -60.20000 5.26000...  \n4         Medio  MULTIPOLYGON (((-46.06000 -1.09000, -46.07000 ...  \n5         Baixo  MULTIPOLYGON (((-50.18000 1.90000, -50.18000 1...  \n6         Baixo  POLYGON ((-48.36000 -5.17000, -48.35000 -5.170...  \n7         Baixo  MULTIPOLYGON (((-44.00000 -2.39000, -44.00000 ...  \n8         Baixo  POLYGON ((-41.75000 -2.80000, -41.74000 -2.810...  \n9         Baixo  POLYGON ((-40.50000 -2.78000, -40.49000 -2.790...  \n10        Baixo  POLYGON ((-37.25000 -4.83000, -37.25000 -4.830...  \n11  Muito baixo  MULTIPOLYGON (((-34.86000 -6.98000, -34.86000 ...  \n12  Muito baixo  MULTIPOLYGON (((-37.23000 -7.27000, -37.23000 ...  \n13  Muito baixo  POLYGON ((-35.47000 -8.82000, -35.47000 -8.820...  \n14  Muito baixo  POLYGON ((-37.99000 -9.53000, -37.99000 -9.530...  \n15  Muito baixo  MULTIPOLYGON (((-38.65000 -18.04000, -38.66000...  \n16  Muito baixo  POLYGON ((-44.21000 -14.24000, -44.21000 -14.2...  \n17  Muito baixo  MULTIPOLYGON (((-40.37640 -20.61400, -40.37740...  \n18  Muito baixo  MULTIPOLYGON (((-44.67240 -23.35750, -44.67340...  \n19  Muito baixo  MULTIPOLYGON (((-46.90290 -24.39640, -46.90390...  \n20  Muito baixo  POLYGON ((-52.05000 -22.54000, -52.03000 -22.5...  \n21  Muito baixo  MULTIPOLYGON (((-48.75960 -28.54060, -48.76140...  \n22  Muito baixo  POLYGON ((-53.03000 -27.16000, -53.03000 -27.1...  \n23        Baixo  POLYGON ((-56.10000 -17.17000, -56.10000 -17.1...  \n24        Baixo  POLYGON ((-57.93000 -7.66000, -57.93000 -7.660...  \n25        Baixo  POLYGON ((-50.16000 -12.42000, -50.16000 -12.4...  \n26        Baixo  POLYGON ((-48.05000 -15.50000, -47.62000 -15.5...  \n\n[27 rows x 68 columns]",
      "text/html": "<div>\n<style scoped>\n    .dataframe tbody tr th:only-of-type {\n        vertical-align: middle;\n    }\n\n    .dataframe tbody tr th {\n        vertical-align: top;\n    }\n\n    .dataframe thead th {\n        text-align: right;\n    }\n</style>\n<table border=\"1\" class=\"dataframe\">\n  <thead>\n    <tr style=\"text-align: right;\">\n      <th></th>\n      <th>id</th>\n      <th>nome</th>\n      <th>1000-2030-I</th>\n      <th>1000-2050-I</th>\n      <th>1000-2030-M</th>\n      <th>1000-2050-M</th>\n      <th>1000-2030-D</th>\n      <th>1000-2050-D</th>\n      <th>1001-2019</th>\n      <th>1001-2030-I</th>\n      <th>...</th>\n      <th>1011-2030-I</th>\n      <th>1011-2050-I</th>\n      <th>1012-2030-I</th>\n      <th>1012-2050-I</th>\n      <th>1013-2030-I</th>\n      <th>1013-2050-I</th>\n      <th>ID</th>\n      <th>GEOCOD_IB</th>\n      <th>CLASSE</th>\n      <th>geometry</th>\n    </tr>\n  </thead>\n  <tbody>\n    <tr>\n      <th>0</th>\n      <td>11</td>\n      <td>RO</td>\n      <td>NaN</td>\n      <td>0.012192</td>\n      <td>NaN</td>\n      <td>-0.016386</td>\n      <td>NaN</td>\n      <td>-0.028578</td>\n      <td>47091</td>\n      <td>0.2546</td>\n      <td>...</td>\n      <td>-0.022215</td>\n      <td>-0.065176</td>\n      <td>0.000087</td>\n      <td>0.000262</td>\n      <td>0.055135</td>\n      <td>0.165406</td>\n      <td>26</td>\n      <td>26</td>\n      <td>Medio</td>\n      <td>POLYGON ((-62.87000 -7.98000, -62.86000 -7.980...</td>\n    </tr>\n    <tr>\n      <th>1</th>\n      <td>12</td>\n      <td>AC</td>\n      <td>NaN</td>\n      <td>0.001141</td>\n      <td>NaN</td>\n      <td>-0.021861</td>\n      <td>NaN</td>\n      <td>-0.023002</td>\n      <td>15630</td>\n      <td>0.1964</td>\n      <td>...</td>\n      <td>-0.001407</td>\n      <td>-0.004215</td>\n      <td>0.000524</td>\n      <td>0.001573</td>\n      <td>0.048461</td>\n      <td>0.145384</td>\n      <td>1</td>\n      <td>1</td>\n      <td>Baixo</td>\n      <td>POLYGON ((-73.18000 -7.34000, -72.58000 -7.550...</td>\n    </tr>\n    <tr>\n      <th>2</th>\n      <td>13</td>\n      <td>AM</td>\n      <td>NaN</td>\n      <td>-0.007878</td>\n      <td>NaN</td>\n      <td>-0.020490</td>\n      <td>NaN</td>\n      <td>-0.012612</td>\n      <td>108181</td>\n      <td>0.3056</td>\n      <td>...</td>\n      <td>-0.000551</td>\n      <td>-0.001652</td>\n      <td>-0.003608</td>\n      <td>-0.010784</td>\n      <td>0.027424</td>\n      <td>0.082272</td>\n      <td>27</td>\n      <td>27</td>\n      <td>Medio</td>\n      <td>POLYGON ((-67.33000 2.03000, -67.32000 2.00000...</td>\n    </tr>\n    <tr>\n      <th>3</th>\n      <td>14</td>\n      <td>RR</td>\n      <td>NaN</td>\n      <td>-0.001788</td>\n      <td>NaN</td>\n      <td>-0.016821</td>\n      <td>NaN</td>\n      <td>-0.015033</td>\n      <td>14292</td>\n      <td>0.1818</td>\n      <td>...</td>\n      <td>0.000000</td>\n      <td>0.000000</td>\n      <td>-0.000275</td>\n      <td>-0.000826</td>\n      <td>0.041330</td>\n      <td>0.123989</td>\n      <td>20</td>\n      <td>20</td>\n      <td>Medio</td>\n      <td>POLYGON ((-60.20000 5.26000, -60.20000 5.26000...</td>\n    </tr>\n    <tr>\n      <th>4</th>\n      <td>15</td>\n      <td>PA</td>\n      <td>NaN</td>\n      <td>0.008829</td>\n      <td>NaN</td>\n      <td>-0.016136</td>\n      <td>NaN</td>\n      <td>-0.024965</td>\n      <td>178377</td>\n      <td>0.2838</td>\n      <td>...</td>\n      <td>-0.000953</td>\n      <td>-0.002857</td>\n      <td>-0.001596</td>\n      <td>-0.004782</td>\n      <td>0.063317</td>\n      <td>0.189950</td>\n      <td>13</td>\n      <td>13</td>\n      <td>Medio</td>\n      <td>MULTIPOLYGON (((-46.06000 -1.09000, -46.07000 ...</td>\n    </tr>\n    <tr>\n      <th>5</th>\n      <td>16</td>\n      <td>AP</td>\n      <td>NaN</td>\n      <td>0.009004</td>\n      <td>NaN</td>\n      <td>-0.023499</td>\n      <td>NaN</td>\n      <td>-0.032503</td>\n      <td>17497</td>\n      <td>0.2101</td>\n      <td>...</td>\n      <td>0.000000</td>\n      <td>0.000000</td>\n      <td>-0.008990</td>\n      <td>-0.026729</td>\n      <td>0.046990</td>\n      <td>0.140969</td>\n      <td>3</td>\n      <td>3</td>\n      <td>Baixo</td>\n      <td>MULTIPOLYGON (((-50.18000 1.90000, -50.18000 1...</td>\n    </tr>\n    <tr>\n      <th>6</th>\n      <td>17</td>\n      <td>TO</td>\n      <td>NaN</td>\n      <td>0.025680</td>\n      <td>NaN</td>\n      <td>-0.006730</td>\n      <td>NaN</td>\n      <td>-0.032410</td>\n      <td>39356</td>\n      <td>0.2279</td>\n      <td>...</td>\n      <td>0.000000</td>\n      <td>0.000000</td>\n      <td>-0.000025</td>\n      <td>-0.000075</td>\n      <td>0.064173</td>\n      <td>0.192520</td>\n      <td>24</td>\n      <td>24</td>\n      <td>Baixo</td>\n      <td>POLYGON ((-48.36000 -5.17000, -48.35000 -5.170...</td>\n    </tr>\n    <tr>\n      <th>7</th>\n      <td>21</td>\n      <td>MA</td>\n      <td>NaN</td>\n      <td>0.028872</td>\n      <td>NaN</td>\n      <td>-0.010579</td>\n      <td>NaN</td>\n      <td>-0.039451</td>\n      <td>97340</td>\n      <td>0.2516</td>\n      <td>...</td>\n      <td>0.000000</td>\n      <td>0.000000</td>\n      <td>-0.000063</td>\n      <td>-0.000188</td>\n      <td>0.074499</td>\n      <td>0.223496</td>\n      <td>9</td>\n      <td>9</td>\n      <td>Baixo</td>\n      <td>MULTIPOLYGON (((-44.00000 -2.39000, -44.00000 ...</td>\n    </tr>\n    <tr>\n      <th>8</th>\n      <td>22</td>\n      <td>PI</td>\n      <td>NaN</td>\n      <td>0.021136</td>\n      <td>NaN</td>\n      <td>-0.008687</td>\n      <td>NaN</td>\n      <td>-0.029823</td>\n      <td>52781</td>\n      <td>0.1972</td>\n      <td>...</td>\n      <td>0.000000</td>\n      <td>0.000000</td>\n      <td>-0.000088</td>\n      <td>-0.000263</td>\n      <td>0.055151</td>\n      <td>0.165454</td>\n      <td>16</td>\n      <td>16</td>\n      <td>Baixo</td>\n      <td>POLYGON ((-41.75000 -2.80000, -41.74000 -2.810...</td>\n    </tr>\n    <tr>\n      <th>9</th>\n      <td>23</td>\n      <td>CE</td>\n      <td>NaN</td>\n      <td>-0.001354</td>\n      <td>NaN</td>\n      <td>-0.018327</td>\n      <td>NaN</td>\n      <td>-0.016972</td>\n      <td>163575</td>\n      <td>0.2396</td>\n      <td>...</td>\n      <td>0.000649</td>\n      <td>0.001947</td>\n      <td>-0.000300</td>\n      <td>-0.000901</td>\n      <td>0.047198</td>\n      <td>0.141595</td>\n      <td>5</td>\n      <td>5</td>\n      <td>Baixo</td>\n      <td>POLYGON ((-40.50000 -2.78000, -40.49000 -2.790...</td>\n    </tr>\n    <tr>\n      <th>10</th>\n      <td>24</td>\n      <td>RN</td>\n      <td>NaN</td>\n      <td>0.001995</td>\n      <td>NaN</td>\n      <td>-0.011086</td>\n      <td>NaN</td>\n      <td>-0.013081</td>\n      <td>71337</td>\n      <td>0.2097</td>\n      <td>...</td>\n      <td>0.000000</td>\n      <td>0.000000</td>\n      <td>0.000012</td>\n      <td>0.000037</td>\n      <td>0.042990</td>\n      <td>0.128970</td>\n      <td>18</td>\n      <td>18</td>\n      <td>Baixo</td>\n      <td>POLYGON ((-37.25000 -4.83000, -37.25000 -4.830...</td>\n    </tr>\n    <tr>\n      <th>11</th>\n      <td>25</td>\n      <td>PB</td>\n      <td>NaN</td>\n      <td>0.019061</td>\n      <td>NaN</td>\n      <td>-0.001696</td>\n      <td>NaN</td>\n      <td>-0.020757</td>\n      <td>67986</td>\n      <td>0.1670</td>\n      <td>...</td>\n      <td>0.000000</td>\n      <td>0.000000</td>\n      <td>-0.000113</td>\n      <td>-0.000338</td>\n      <td>0.045340</td>\n      <td>0.136020</td>\n      <td>14</td>\n      <td>14</td>\n      <td>Muito baixo</td>\n      <td>MULTIPOLYGON (((-34.86000 -6.98000, -34.86000 ...</td>\n    </tr>\n    <tr>\n      <th>12</th>\n      <td>26</td>\n      <td>PE</td>\n      <td>NaN</td>\n      <td>0.022082</td>\n      <td>NaN</td>\n      <td>0.003521</td>\n      <td>NaN</td>\n      <td>-0.018561</td>\n      <td>197853</td>\n      <td>0.2150</td>\n      <td>...</td>\n      <td>0.000037</td>\n      <td>0.000112</td>\n      <td>-0.000050</td>\n      <td>-0.000150</td>\n      <td>0.044797</td>\n      <td>0.134392</td>\n      <td>15</td>\n      <td>15</td>\n      <td>Muito baixo</td>\n      <td>MULTIPOLYGON (((-37.23000 -7.27000, -37.23000 ...</td>\n    </tr>\n    <tr>\n      <th>13</th>\n      <td>27</td>\n      <td>AL</td>\n      <td>NaN</td>\n      <td>0.032243</td>\n      <td>NaN</td>\n      <td>0.020836</td>\n      <td>NaN</td>\n      <td>-0.011407</td>\n      <td>58964</td>\n      <td>0.2356</td>\n      <td>...</td>\n      <td>0.000000</td>\n      <td>0.000000</td>\n      <td>-0.000476</td>\n      <td>-0.001427</td>\n      <td>0.038901</td>\n      <td>0.116703</td>\n      <td>2</td>\n      <td>2</td>\n      <td>Muito baixo</td>\n      <td>POLYGON ((-35.47000 -8.82000, -35.47000 -8.820...</td>\n    </tr>\n    <tr>\n      <th>14</th>\n      <td>28</td>\n      <td>SE</td>\n      <td>NaN</td>\n      <td>0.004448</td>\n      <td>NaN</td>\n      <td>-0.010323</td>\n      <td>NaN</td>\n      <td>-0.014771</td>\n      <td>44689</td>\n      <td>0.2465</td>\n      <td>...</td>\n      <td>0.000000</td>\n      <td>0.000000</td>\n      <td>-0.021021</td>\n      <td>-0.061746</td>\n      <td>0.041399</td>\n      <td>0.124197</td>\n      <td>23</td>\n      <td>23</td>\n      <td>Muito baixo</td>\n      <td>POLYGON ((-37.99000 -9.53000, -37.99000 -9.530...</td>\n    </tr>\n    <tr>\n      <th>15</th>\n      <td>29</td>\n      <td>BA</td>\n      <td>NaN</td>\n      <td>0.013669</td>\n      <td>NaN</td>\n      <td>-0.012855</td>\n      <td>NaN</td>\n      <td>-0.026524</td>\n      <td>293241</td>\n      <td>0.2774</td>\n      <td>...</td>\n      <td>-0.001457</td>\n      <td>-0.004366</td>\n      <td>-0.002154</td>\n      <td>-0.006447</td>\n      <td>0.054005</td>\n      <td>0.162015</td>\n      <td>4</td>\n      <td>4</td>\n      <td>Muito baixo</td>\n      <td>MULTIPOLYGON (((-38.65000 -18.04000, -38.66000...</td>\n    </tr>\n    <tr>\n      <th>16</th>\n      <td>31</td>\n      <td>MG</td>\n      <td>NaN</td>\n      <td>0.016430</td>\n      <td>NaN</td>\n      <td>-0.006602</td>\n      <td>NaN</td>\n      <td>-0.023032</td>\n      <td>651873</td>\n      <td>0.2996</td>\n      <td>...</td>\n      <td>-0.041235</td>\n      <td>-0.118673</td>\n      <td>-0.001799</td>\n      <td>-0.005387</td>\n      <td>0.045020</td>\n      <td>0.135061</td>\n      <td>12</td>\n      <td>12</td>\n      <td>Muito baixo</td>\n      <td>POLYGON ((-44.21000 -14.24000, -44.21000 -14.2...</td>\n    </tr>\n    <tr>\n      <th>17</th>\n      <td>32</td>\n      <td>ES</td>\n      <td>NaN</td>\n      <td>-0.001454</td>\n      <td>NaN</td>\n      <td>-0.017966</td>\n      <td>NaN</td>\n      <td>-0.016512</td>\n      <td>137346</td>\n      <td>0.3236</td>\n      <td>...</td>\n      <td>-0.004147</td>\n      <td>-0.012390</td>\n      <td>-0.000100</td>\n      <td>-0.000300</td>\n      <td>0.046259</td>\n      <td>0.138777</td>\n      <td>7</td>\n      <td>7</td>\n      <td>Muito baixo</td>\n      <td>MULTIPOLYGON (((-40.37640 -20.61400, -40.37740...</td>\n    </tr>\n    <tr>\n      <th>18</th>\n      <td>33</td>\n      <td>RJ</td>\n      <td>NaN</td>\n      <td>-0.013608</td>\n      <td>NaN</td>\n      <td>-0.022291</td>\n      <td>NaN</td>\n      <td>-0.008682</td>\n      <td>779928</td>\n      <td>0.2769</td>\n      <td>...</td>\n      <td>-0.005778</td>\n      <td>-0.017234</td>\n      <td>-0.003160</td>\n      <td>-0.009449</td>\n      <td>0.031168</td>\n      <td>0.093504</td>\n      <td>17</td>\n      <td>17</td>\n      <td>Muito baixo</td>\n      <td>MULTIPOLYGON (((-44.67240 -23.35750, -44.67340...</td>\n    </tr>\n    <tr>\n      <th>19</th>\n      <td>34</td>\n      <td>SP</td>\n      <td>NaN</td>\n      <td>-0.000333</td>\n      <td>NaN</td>\n      <td>-0.008120</td>\n      <td>NaN</td>\n      <td>-0.007787</td>\n      <td>2348338</td>\n      <td>0.3185</td>\n      <td>...</td>\n      <td>-0.003505</td>\n      <td>-0.010479</td>\n      <td>-0.013743</td>\n      <td>-0.040666</td>\n      <td>0.018795</td>\n      <td>0.056386</td>\n      <td>22</td>\n      <td>22</td>\n      <td>Muito baixo</td>\n      <td>MULTIPOLYGON (((-46.90290 -24.39640, -46.90390...</td>\n    </tr>\n    <tr>\n      <th>20</th>\n      <td>41</td>\n      <td>PR</td>\n      <td>NaN</td>\n      <td>-0.014845</td>\n      <td>NaN</td>\n      <td>-0.012996</td>\n      <td>NaN</td>\n      <td>0.001849</td>\n      <td>466377</td>\n      <td>0.3116</td>\n      <td>...</td>\n      <td>-0.003710</td>\n      <td>-0.011090</td>\n      <td>-0.001079</td>\n      <td>-0.003234</td>\n      <td>-0.022598</td>\n      <td>-0.067795</td>\n      <td>25</td>\n      <td>25</td>\n      <td>Muito baixo</td>\n      <td>POLYGON ((-52.05000 -22.54000, -52.03000 -22.5...</td>\n    </tr>\n    <tr>\n      <th>21</th>\n      <td>42</td>\n      <td>SC</td>\n      <td>NaN</td>\n      <td>-0.031224</td>\n      <td>NaN</td>\n      <td>-0.019681</td>\n      <td>NaN</td>\n      <td>0.011542</td>\n      <td>323264</td>\n      <td>0.3129</td>\n      <td>...</td>\n      <td>0.000000</td>\n      <td>0.000000</td>\n      <td>-0.000401</td>\n      <td>-0.001201</td>\n      <td>-0.049496</td>\n      <td>-0.148487</td>\n      <td>21</td>\n      <td>21</td>\n      <td>Muito baixo</td>\n      <td>MULTIPOLYGON (((-48.75960 -28.54060, -48.76140...</td>\n    </tr>\n    <tr>\n      <th>22</th>\n      <td>43</td>\n      <td>RS</td>\n      <td>NaN</td>\n      <td>-0.022840</td>\n      <td>NaN</td>\n      <td>-0.006246</td>\n      <td>NaN</td>\n      <td>0.016593</td>\n      <td>482464</td>\n      <td>0.3070</td>\n      <td>...</td>\n      <td>0.000000</td>\n      <td>0.000000</td>\n      <td>-0.001230</td>\n      <td>-0.003686</td>\n      <td>-0.052709</td>\n      <td>-0.158126</td>\n      <td>19</td>\n      <td>19</td>\n      <td>Muito baixo</td>\n      <td>POLYGON ((-53.03000 -27.16000, -53.03000 -27.1...</td>\n    </tr>\n    <tr>\n      <th>23</th>\n      <td>50</td>\n      <td>MS</td>\n      <td>NaN</td>\n      <td>0.030087</td>\n      <td>NaN</td>\n      <td>0.009865</td>\n      <td>NaN</td>\n      <td>-0.020222</td>\n      <td>106943</td>\n      <td>0.2925</td>\n      <td>...</td>\n      <td>-0.000125</td>\n      <td>-0.000375</td>\n      <td>-0.000088</td>\n      <td>-0.000263</td>\n      <td>0.028799</td>\n      <td>0.086397</td>\n      <td>11</td>\n      <td>11</td>\n      <td>Baixo</td>\n      <td>POLYGON ((-56.10000 -17.17000, -56.10000 -17.1...</td>\n    </tr>\n    <tr>\n      <th>24</th>\n      <td>51</td>\n      <td>MT</td>\n      <td>NaN</td>\n      <td>0.033989</td>\n      <td>NaN</td>\n      <td>-0.002407</td>\n      <td>NaN</td>\n      <td>-0.036396</td>\n      <td>142122</td>\n      <td>0.2935</td>\n      <td>...</td>\n      <td>-0.000100</td>\n      <td>-0.000300</td>\n      <td>0.000000</td>\n      <td>0.000000</td>\n      <td>0.057852</td>\n      <td>0.173556</td>\n      <td>10</td>\n      <td>10</td>\n      <td>Baixo</td>\n      <td>POLYGON ((-57.93000 -7.66000, -57.93000 -7.660...</td>\n    </tr>\n    <tr>\n      <th>25</th>\n      <td>52</td>\n      <td>GO</td>\n      <td>NaN</td>\n      <td>0.034029</td>\n      <td>NaN</td>\n      <td>0.008225</td>\n      <td>NaN</td>\n      <td>-0.025804</td>\n      <td>208672</td>\n      <td>0.2691</td>\n      <td>...</td>\n      <td>-0.000589</td>\n      <td>-0.001765</td>\n      <td>-0.000388</td>\n      <td>-0.001164</td>\n      <td>0.052685</td>\n      <td>0.158056</td>\n      <td>8</td>\n      <td>8</td>\n      <td>Baixo</td>\n      <td>POLYGON ((-50.16000 -12.42000, -50.16000 -12.4...</td>\n    </tr>\n    <tr>\n      <th>26</th>\n      <td>53</td>\n      <td>DF</td>\n      <td>NaN</td>\n      <td>-0.001227</td>\n      <td>NaN</td>\n      <td>-0.016315</td>\n      <td>NaN</td>\n      <td>-0.015088</td>\n      <td>273614</td>\n      <td>0.1779</td>\n      <td>...</td>\n      <td>-0.001344</td>\n      <td>-0.004026</td>\n      <td>-0.000689</td>\n      <td>-0.002066</td>\n      <td>0.047240</td>\n      <td>0.141720</td>\n      <td>6</td>\n      <td>6</td>\n      <td>Baixo</td>\n      <td>POLYGON ((-48.05000 -15.50000, -47.62000 -15.5...</td>\n    </tr>\n  </tbody>\n</table>\n<p>27 rows × 68 columns</p>\n</div>"
     },
     "execution_count": 9,
     "metadata": {},
     "output_type": "execute_result"
    }
   ],
   "source": [
    "merged"
   ],
   "metadata": {
    "collapsed": false,
    "pycharm": {
     "name": "#%%\n"
    }
   }
  },
  {
   "cell_type": "code",
   "execution_count": 97,
   "outputs": [
    {
     "data": {
      "text/plain": "Index(['ID', 'GEOCOD_IB', 'CLASSE', 'nome', 'geometry'], dtype='object')"
     },
     "execution_count": 97,
     "metadata": {},
     "output_type": "execute_result"
    }
   ],
   "source": [
    "gdf.columns"
   ],
   "metadata": {
    "collapsed": false,
    "pycharm": {
     "name": "#%%\n"
    }
   }
  },
  {
   "cell_type": "code",
   "execution_count": null,
   "outputs": [],
   "source": [],
   "metadata": {
    "collapsed": false,
    "pycharm": {
     "name": "#%%\n"
    }
   }
  },
  {
   "cell_type": "code",
   "execution_count": 10,
   "outputs": [
    {
     "data": {
      "text/plain": "<Axes: >"
     },
     "execution_count": 10,
     "metadata": {},
     "output_type": "execute_result"
    },
    {
     "data": {
      "text/plain": "<Figure size 640x480 with 1 Axes>",
      "image/png": "[encoded data removed]"
     },
     "metadata": {},
     "output_type": "display_data"
    }
   ],
   "source": [
    "merged.plot(column=\"1000-2050-I\", cmap=\"OrRd\")"
   ],
   "metadata": {
    "collapsed": false,
    "pycharm": {
     "name": "#%%\n"
    }
   }
  },
  {
   "cell_type": "code",
   "execution_count": 11,
   "outputs": [],
   "source": [
    "if os.path.exists(outputPath):\n",
    "    shutil.rmtree(outputPath)\n",
    "os.makedirs(outputPath+'images')\n",
    "os.makedirs(outputPath+'shapefiles')"
   ],
   "metadata": {
    "collapsed": false,
    "pycharm": {
     "name": "#%%\n"
    }
   }
  },
  {
   "cell_type": "code",
   "execution_count": 12,
   "outputs": [
    {
     "name": "stdout",
     "output_type": "stream",
     "text": [
      "Index(['1000-2030-I', '1000-2050-I', '1000-2030-M', '1000-2050-M',\n",
      "       '1000-2030-D', '1000-2050-D', '1001-2019', '1001-2030-I', '1001-2050-I',\n",
      "       '1001-2030-M', '1001-2050-M', '1001-2030-D', '1001-2050-D', '1002-2020',\n",
      "       '1002-2030-I', '1002-2050-I', '1002-2030-M', '1002-2050-M',\n",
      "       '1002-2030-D', '1002-2050-D', '1003-2020', '1003-2030-I', '1003-2050-I',\n",
      "       '1003-2030-M', '1003-2050-M', '1003-2030-D', '1003-2050-D', '1004-2020',\n",
      "       '1004-2030-I', '1004-2050-I', '1004-2030-M', '1004-2050-M',\n",
      "       '1004-2030-D', '1004-2050-D', '1005-2019', '1005-2030-I', '1005-2050-I',\n",
      "       '1005-2030-M', '1005-2050-M', '1005-2030-D', '1005-2050-D', '1006-2020',\n",
      "       '1006-2030-I', '1006-2050-I', '1006-2030-M', '1006-2050-M',\n",
      "       '1006-2030-D', '1006-2050-D', '1007-2030-I', '1007-2050-I',\n",
      "       '1008-2030-I', '1008-2050-I', '1009-2030-I', '1009-2050-I',\n",
      "       '1010-2030-I', '1010-2050-I', '1011-2030-I', '1011-2050-I',\n",
      "       '1012-2030-I', '1012-2050-I', '1013-2030-I', '1013-2050-I'],\n",
      "      dtype='object')\n"
     ]
    }
   ],
   "source": [
    "print(merged.columns[2:-4])"
   ],
   "metadata": {
    "collapsed": false,
    "pycharm": {
     "name": "#%%\n"
    }
   }
  },
  {
   "cell_type": "code",
   "execution_count": 13,
   "outputs": [],
   "source": [
    "for column in merged.columns[2:-4]:\n",
    "    plot = merged.plot(column=column, cmap=\"OrRd\", legend=True)\n",
    "    plt.suptitle = column\n",
    "    fig = plot.get_figure()\n",
    "    fig.savefig(outputPath+'images\\\\'+column)\n",
    "    pyplot.close()"
   ],
   "metadata": {
    "collapsed": false,
    "pycharm": {
     "name": "#%%\n"
    }
   }
  }
 ],
 "metadata": {
  "kernelspec": {
   "display_name": "Python 3",
   "language": "python",
   "name": "python3"
  },
  "language_info": {
   "codemirror_mode": {
    "name": "ipython",
    "version": 2
   },
   "file_extension": ".py",
   "mimetype": "text/x-python",
   "name": "python",
   "nbconvert_exporter": "python",
   "pygments_lexer": "ipython2",
   "version": "2.7.6"
  }
 },
 "nbformat": 4,
 "nbformat_minor": 0
}