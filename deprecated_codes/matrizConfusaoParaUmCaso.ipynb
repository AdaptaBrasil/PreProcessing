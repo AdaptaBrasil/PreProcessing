{
 "cells": [
  {
   "cell_type": "markdown",
   "metadata": {
    "collapsed": false
   },
   "source": [
    "#### Notebook que carrega um valor estimado para os trechos de uma ferrovia/rodovia, associa esses trechos aos polígonos correspondetes na malha e então compara com o valor do mesmo indicador informado em uma divisão geométrica diferente."
   ]
  },
  {
   "cell_type": "code",
   "execution_count": null,
   "metadata": {
    "collapsed": true
   },
   "outputs": [],
   "source": [
    "! pip install sqlalchemy\n",
    "! pip install psycopg2\n",
    "! pip install GeoAlchemy2\n",
    "! pip install scikit-learn\n",
    "! pip install bokeh\n",
    "! pip install seaborn"
   ]
  },
  {
   "cell_type": "code",
   "execution_count": 52,
   "metadata": {
    "collapsed": false
   },
   "outputs": [],
   "source": [
    "from glob import glob\n",
    "import geopandas as gpd\n",
    "import pandas as pd\n",
    "import os\n",
    "import seaborn as sns\n",
    "import matplotlib\n",
    "import matplotlib.pyplot as plt\n",
    "from sklearn.metrics import confusion_matrix"
   ]
  },
  {
   "cell_type": "markdown",
   "metadata": {
    "collapsed": false
   },
   "source": [
    "##### Arquivos a processar, nome do arquivo de saída."
   ]
  },
  {
   "cell_type": "code",
   "execution_count": 73,
   "metadata": {
    "collapsed": false
   },
   "outputs": [],
   "source": [
    "FERROVIAS_FNAME = r'D:\\Atrium\\Projects\\AdaptaBrasil\\Data\\Adaptavias\\Ferrovias\\Ferrovias.shp'\n",
    "ARQUIVO_1 = r'D:\\Atrium\\Projects\\AdaptaBrasil\\Data\\Adaptavias\\02_FERROVIAS_Adriano\\04_BASE_DE_DADOS\\B_RIS_DESLIZAMENTO\\Nivel_2\\AdVIA_FER_DESL_N2_PB_1981_2000_ln_EXPOSICAO.shp'\n",
    "ARQUIVO_2 = r'D:\\Atrium\\Projects\\AdaptaBrasil\\Data\\Adaptavias\\Solucao_Ind_exposicao_ferrovias.xlsx'\n",
    "nome_indicador = os.path.basename(ARQUIVO_1).split('.')[0]\n",
    "ARQUIVO_SAIDA = fr'D:\\Atrium\\Projects\\AdaptaBrasil\\Data\\Adaptavias\\{nome_indicador}.png'"
   ]
  },
  {
   "cell_type": "markdown",
   "metadata": {
    "collapsed": false
   },
   "source": [
    "##### Carrega e ajusta arquivos."
   ]
  },
  {
   "cell_type": "code",
   "execution_count": 54,
   "metadata": {
    "collapsed": false
   },
   "outputs": [],
   "source": [
    "ferrovias = gpd.read_file(FERROVIAS_FNAME)"
   ]
  },
  {
   "cell_type": "code",
   "execution_count": 55,
   "metadata": {
    "collapsed": false
   },
   "outputs": [],
   "source": [
    "gdf = gpd.read_file(ARQUIVO_1)"
   ]
  },
  {
   "cell_type": "code",
   "execution_count": 56,
   "metadata": {
    "collapsed": false
   },
   "outputs": [],
   "source": [
    "df = pd.read_excel(ARQUIVO_2)"
   ]
  },
  {
   "cell_type": "code",
   "execution_count": 57,
   "metadata": {
    "collapsed": false
   },
   "outputs": [
    {
     "data": {
      "text/html": [
       "<div>\n",
       "<style scoped>\n",
       "    .dataframe tbody tr th:only-of-type {\n",
       "        vertical-align: middle;\n",
       "    }\n",
       "\n",
       "    .dataframe tbody tr th {\n",
       "        vertical-align: top;\n",
       "    }\n",
       "\n",
       "    .dataframe thead th {\n",
       "        text-align: right;\n",
       "    }\n",
       "</style>\n",
       "<table border=\"1\" class=\"dataframe\">\n",
       "  <thead>\n",
       "    <tr style=\"text-align: right;\">\n",
       "      <th></th>\n",
       "      <th>objectid</th>\n",
       "      <th>valores</th>\n",
       "    </tr>\n",
       "  </thead>\n",
       "  <tbody>\n",
       "    <tr>\n",
       "      <th>0</th>\n",
       "      <td>7472</td>\n",
       "      <td>0.01</td>\n",
       "    </tr>\n",
       "    <tr>\n",
       "      <th>1</th>\n",
       "      <td>7476</td>\n",
       "      <td>0.01</td>\n",
       "    </tr>\n",
       "    <tr>\n",
       "      <th>2</th>\n",
       "      <td>7482</td>\n",
       "      <td>0.01</td>\n",
       "    </tr>\n",
       "    <tr>\n",
       "      <th>3</th>\n",
       "      <td>7483</td>\n",
       "      <td>1.00</td>\n",
       "    </tr>\n",
       "    <tr>\n",
       "      <th>4</th>\n",
       "      <td>7487</td>\n",
       "      <td>0.01</td>\n",
       "    </tr>\n",
       "  </tbody>\n",
       "</table>\n",
       "</div>"
      ],
      "text/plain": [
       "   objectid  valores\n",
       "0      7472     0.01\n",
       "1      7476     0.01\n",
       "2      7482     0.01\n",
       "3      7483     1.00\n",
       "4      7487     0.01"
      ]
     },
     "execution_count": 57,
     "metadata": {},
     "output_type": "execute_result"
    }
   ],
   "source": [
    "df.columns = ['objectid','valores']\n",
    "df.head()"
   ]
  },
  {
   "cell_type": "code",
   "execution_count": null,
   "metadata": {
    "collapsed": false
   },
   "outputs": [],
   "source": [
    "gdf.head()"
   ]
  },
  {
   "cell_type": "code",
   "execution_count": 42,
   "metadata": {
    "collapsed": false
   },
   "outputs": [
    {
     "name": "stdout",
     "output_type": "stream",
     "text": [
      "1428\n",
      "2909\n",
      "1428\n"
     ]
    }
   ],
   "source": [
    "print(len(df))\n",
    "print(len(gdf))\n",
    "print(len(ferrovias))"
   ]
  },
  {
   "cell_type": "markdown",
   "metadata": {
    "collapsed": false
   },
   "source": [
    "##### Primeiro junta indicador com a ferrovia, obtendo as geometrias."
   ]
  },
  {
   "cell_type": "code",
   "execution_count": 58,
   "metadata": {
    "collapsed": false
   },
   "outputs": [],
   "source": [
    "ferrovias = ferrovias.merge(df, on='objectid', how='inner')"
   ]
  },
  {
   "cell_type": "code",
   "execution_count": 59,
   "metadata": {
    "collapsed": false
   },
   "outputs": [
    {
     "name": "stdout",
     "output_type": "stream",
     "text": [
      "1428\n",
      "<class 'geopandas.geodataframe.GeoDataFrame'>\n"
     ]
    }
   ],
   "source": [
    "print(len(ferrovias))\n",
    "print(type(ferrovias))"
   ]
  },
  {
   "cell_type": "markdown",
   "metadata": {
    "collapsed": false
   },
   "source": [
    "#### Depois, junta indicador+ferrovias com o valor original do indicador."
   ]
  },
  {
   "cell_type": "code",
   "execution_count": 60,
   "metadata": {
    "collapsed": false
   },
   "outputs": [],
   "source": [
    "intersecao = gpd.sjoin(gdf, ferrovias, how='inner', predicate='intersects')"
   ]
  },
  {
   "cell_type": "code",
   "execution_count": 61,
   "metadata": {
    "collapsed": false
   },
   "outputs": [
    {
     "name": "stdout",
     "output_type": "stream",
     "text": [
      "3860\n"
     ]
    },
    {
     "data": {
      "text/html": [
       "<div>\n",
       "<style scoped>\n",
       "    .dataframe tbody tr th:only-of-type {\n",
       "        vertical-align: middle;\n",
       "    }\n",
       "\n",
       "    .dataframe tbody tr th {\n",
       "        vertical-align: top;\n",
       "    }\n",
       "\n",
       "    .dataframe thead th {\n",
       "        text-align: right;\n",
       "    }\n",
       "</style>\n",
       "<table border=\"1\" class=\"dataframe\">\n",
       "  <thead>\n",
       "    <tr style=\"text-align: right;\">\n",
       "      <th></th>\n",
       "      <th>ID</th>\n",
       "      <th>ID_1</th>\n",
       "      <th>PROJETO</th>\n",
       "      <th>MODO</th>\n",
       "      <th>IMP_INTER</th>\n",
       "      <th>CENARIO</th>\n",
       "      <th>PERIODO</th>\n",
       "      <th>DADO_BASE</th>\n",
       "      <th>TIP_SITUAC</th>\n",
       "      <th>BITOLA</th>\n",
       "      <th>...</th>\n",
       "      <th>sigla</th>\n",
       "      <th>sigla_coin</th>\n",
       "      <th>municipio</th>\n",
       "      <th>id</th>\n",
       "      <th>uf</th>\n",
       "      <th>label</th>\n",
       "      <th>nome</th>\n",
       "      <th>extensao</th>\n",
       "      <th>st_length_</th>\n",
       "      <th>valores</th>\n",
       "    </tr>\n",
       "  </thead>\n",
       "  <tbody>\n",
       "    <tr>\n",
       "      <th>0</th>\n",
       "      <td>1</td>\n",
       "      <td>1.0</td>\n",
       "      <td>AdaptVIAS (2022)</td>\n",
       "      <td>FERROVIÁRIO</td>\n",
       "      <td>DESLIZAMENTO - Exposição</td>\n",
       "      <td>Período Base</td>\n",
       "      <td>1981 - 2000</td>\n",
       "      <td>Ferrovias_MINFRA</td>\n",
       "      <td>Em Operação</td>\n",
       "      <td>Larga</td>\n",
       "      <td>...</td>\n",
       "      <td>EF-364</td>\n",
       "      <td>RMN</td>\n",
       "      <td>Alto Araguaia</td>\n",
       "      <td>1792</td>\n",
       "      <td>MT</td>\n",
       "      <td>None</td>\n",
       "      <td>Rumo Malha Norte - RMN</td>\n",
       "      <td>85.559378</td>\n",
       "      <td>0.791396</td>\n",
       "      <td>0.25</td>\n",
       "    </tr>\n",
       "    <tr>\n",
       "      <th>2403</th>\n",
       "      <td>2404</td>\n",
       "      <td>2404.0</td>\n",
       "      <td>AdaptVIAS (2022)</td>\n",
       "      <td>FERROVIÁRIO</td>\n",
       "      <td>DESLIZAMENTO - Exposição</td>\n",
       "      <td>Período Base</td>\n",
       "      <td>1981 - 2000</td>\n",
       "      <td>Ferrovias_MINFRA</td>\n",
       "      <td>Em Operação</td>\n",
       "      <td>Larga</td>\n",
       "      <td>...</td>\n",
       "      <td>EF-364</td>\n",
       "      <td>RMN</td>\n",
       "      <td>Alto Araguaia</td>\n",
       "      <td>1792</td>\n",
       "      <td>MT</td>\n",
       "      <td>None</td>\n",
       "      <td>Rumo Malha Norte - RMN</td>\n",
       "      <td>85.559378</td>\n",
       "      <td>0.791396</td>\n",
       "      <td>0.25</td>\n",
       "    </tr>\n",
       "    <tr>\n",
       "      <th>2730</th>\n",
       "      <td>2731</td>\n",
       "      <td>2731.0</td>\n",
       "      <td>AdaptVIAS (2022)</td>\n",
       "      <td>FERROVIÁRIO</td>\n",
       "      <td>DESLIZAMENTO - Exposição</td>\n",
       "      <td>Período Base</td>\n",
       "      <td>1981 - 2000</td>\n",
       "      <td>Ferrovias_MINFRA</td>\n",
       "      <td>Em Operação</td>\n",
       "      <td>Larga</td>\n",
       "      <td>...</td>\n",
       "      <td>EF-364</td>\n",
       "      <td>RMN</td>\n",
       "      <td>Alto Araguaia</td>\n",
       "      <td>1792</td>\n",
       "      <td>MT</td>\n",
       "      <td>None</td>\n",
       "      <td>Rumo Malha Norte - RMN</td>\n",
       "      <td>85.559378</td>\n",
       "      <td>0.791396</td>\n",
       "      <td>0.25</td>\n",
       "    </tr>\n",
       "    <tr>\n",
       "      <th>1</th>\n",
       "      <td>2</td>\n",
       "      <td>2.0</td>\n",
       "      <td>AdaptVIAS (2022)</td>\n",
       "      <td>FERROVIÁRIO</td>\n",
       "      <td>DESLIZAMENTO - Exposição</td>\n",
       "      <td>Período Base</td>\n",
       "      <td>1981 - 2000</td>\n",
       "      <td>Ferrovias_MINFRA</td>\n",
       "      <td>Em Operação</td>\n",
       "      <td>Larga</td>\n",
       "      <td>...</td>\n",
       "      <td>EF-364</td>\n",
       "      <td>RMN</td>\n",
       "      <td>Chapadão do Sul</td>\n",
       "      <td>1811</td>\n",
       "      <td>MS</td>\n",
       "      <td>None</td>\n",
       "      <td>Rumo Malha Norte - RMN</td>\n",
       "      <td>57.422988</td>\n",
       "      <td>0.536180</td>\n",
       "      <td>0.25</td>\n",
       "    </tr>\n",
       "    <tr>\n",
       "      <th>2737</th>\n",
       "      <td>2738</td>\n",
       "      <td>2738.0</td>\n",
       "      <td>AdaptVIAS (2022)</td>\n",
       "      <td>FERROVIÁRIO</td>\n",
       "      <td>DESLIZAMENTO - Exposição</td>\n",
       "      <td>Período Base</td>\n",
       "      <td>1981 - 2000</td>\n",
       "      <td>Ferrovias_MINFRA</td>\n",
       "      <td>Em Operação</td>\n",
       "      <td>Larga</td>\n",
       "      <td>...</td>\n",
       "      <td>EF-364</td>\n",
       "      <td>RMN</td>\n",
       "      <td>Chapadão do Sul</td>\n",
       "      <td>1811</td>\n",
       "      <td>MS</td>\n",
       "      <td>None</td>\n",
       "      <td>Rumo Malha Norte - RMN</td>\n",
       "      <td>57.422988</td>\n",
       "      <td>0.536180</td>\n",
       "      <td>0.25</td>\n",
       "    </tr>\n",
       "  </tbody>\n",
       "</table>\n",
       "<p>5 rows × 33 columns</p>\n",
       "</div>"
      ],
      "text/plain": [
       "        ID    ID_1           PROJETO         MODO                 IMP_INTER  \\\n",
       "0        1     1.0  AdaptVIAS (2022)  FERROVIÁRIO  DESLIZAMENTO - Exposição   \n",
       "2403  2404  2404.0  AdaptVIAS (2022)  FERROVIÁRIO  DESLIZAMENTO - Exposição   \n",
       "2730  2731  2731.0  AdaptVIAS (2022)  FERROVIÁRIO  DESLIZAMENTO - Exposição   \n",
       "1        2     2.0  AdaptVIAS (2022)  FERROVIÁRIO  DESLIZAMENTO - Exposição   \n",
       "2737  2738  2738.0  AdaptVIAS (2022)  FERROVIÁRIO  DESLIZAMENTO - Exposição   \n",
       "\n",
       "           CENARIO      PERIODO         DADO_BASE   TIP_SITUAC BITOLA  ...  \\\n",
       "0     Período Base  1981 - 2000  Ferrovias_MINFRA  Em Operação  Larga  ...   \n",
       "2403  Período Base  1981 - 2000  Ferrovias_MINFRA  Em Operação  Larga  ...   \n",
       "2730  Período Base  1981 - 2000  Ferrovias_MINFRA  Em Operação  Larga  ...   \n",
       "1     Período Base  1981 - 2000  Ferrovias_MINFRA  Em Operação  Larga  ...   \n",
       "2737  Período Base  1981 - 2000  Ferrovias_MINFRA  Em Operação  Larga  ...   \n",
       "\n",
       "       sigla sigla_coin        municipio    id  uf  label  \\\n",
       "0     EF-364        RMN    Alto Araguaia  1792  MT   None   \n",
       "2403  EF-364        RMN    Alto Araguaia  1792  MT   None   \n",
       "2730  EF-364        RMN    Alto Araguaia  1792  MT   None   \n",
       "1     EF-364        RMN  Chapadão do Sul  1811  MS   None   \n",
       "2737  EF-364        RMN  Chapadão do Sul  1811  MS   None   \n",
       "\n",
       "                        nome   extensao st_length_  valores  \n",
       "0     Rumo Malha Norte - RMN  85.559378   0.791396     0.25  \n",
       "2403  Rumo Malha Norte - RMN  85.559378   0.791396     0.25  \n",
       "2730  Rumo Malha Norte - RMN  85.559378   0.791396     0.25  \n",
       "1     Rumo Malha Norte - RMN  57.422988   0.536180     0.25  \n",
       "2737  Rumo Malha Norte - RMN  57.422988   0.536180     0.25  \n",
       "\n",
       "[5 rows x 33 columns]"
      ]
     },
     "execution_count": 61,
     "metadata": {},
     "output_type": "execute_result"
    }
   ],
   "source": [
    "print(len(intersecao))\n",
    "intersecao.head()"
   ]
  },
  {
   "cell_type": "markdown",
   "metadata": {
    "collapsed": false
   },
   "source": [
    "##### Rotina que gera a matriz de confusão."
   ]
  },
  {
   "cell_type": "code",
   "execution_count": 49,
   "metadata": {
    "collapsed": false
   },
   "outputs": [],
   "source": [
    "CONFUSION_BINS =   [0, 0.01, 0.25, 0.50, 0.75, 1]\n",
    "CONFUSION_LABELS = ['0.00 a 0.01', '0.01 a 0.25', '0.25 a 0.50', '0.50 a 0.75', '0.75 a 1']"
   ]
  },
  {
   "cell_type": "code",
   "execution_count": 74,
   "metadata": {
    "collapsed": false
   },
   "outputs": [],
   "source": [
    "def matrizConfusao(classe_original, classe_ponderada, display_labels: list, indicador: str):\n",
    "    cfm=confusion_matrix(classe_original, classe_ponderada, normalize='all', labels=display_labels).round(4)*100\n",
    "    f, ax = plt.subplots(1, 1, figsize=(8, 6))\n",
    "    sns.heatmap(cfm, annot=True, fmt='g', ax=ax) #annot=True to annotate cells, ftm='g' to disable scientific notation\n",
    "\n",
    "    # labels, title and ticks\n",
    "    ax.set_xlabel('Classe Original')\n",
    "    ax.set_ylabel('Classe Ponderada')\n",
    "    ax.set_title(f'Matriz de Confusão (%)\\n{indicador}')\n",
    "    ax.xaxis.set_ticklabels(display_labels)\n",
    "    ax.yaxis.set_ticklabels(display_labels)\n",
    "    plt.savefig(ARQUIVO_SAIDA)\n",
    "    ax.remove()\n",
    "    plt.clf()\n"
   ]
  },
  {
   "cell_type": "markdown",
   "metadata": {
    "collapsed": false
   },
   "source": [
    "##### Cria as variáveis categóricas."
   ]
  },
  {
   "cell_type": "code",
   "execution_count": 63,
   "metadata": {
    "collapsed": false
   },
   "outputs": [],
   "source": [
    "intersecao['label_indicador'] = pd.cut(x=intersecao['CL_N_ORIG'], bins=CONFUSION_BINS,\n",
    "                                       labels=CONFUSION_LABELS)\n",
    "intersecao['label_estimativa'] = pd.cut(x=intersecao['valores'], bins=CONFUSION_BINS,\n",
    "                                       labels=CONFUSION_LABELS)"
   ]
  },
  {
   "cell_type": "code",
   "execution_count": 64,
   "metadata": {
    "collapsed": false
   },
   "outputs": [
    {
     "data": {
      "text/html": [
       "<div>\n",
       "<style scoped>\n",
       "    .dataframe tbody tr th:only-of-type {\n",
       "        vertical-align: middle;\n",
       "    }\n",
       "\n",
       "    .dataframe tbody tr th {\n",
       "        vertical-align: top;\n",
       "    }\n",
       "\n",
       "    .dataframe thead th {\n",
       "        text-align: right;\n",
       "    }\n",
       "</style>\n",
       "<table border=\"1\" class=\"dataframe\">\n",
       "  <thead>\n",
       "    <tr style=\"text-align: right;\">\n",
       "      <th></th>\n",
       "      <th>ID</th>\n",
       "      <th>ID_1</th>\n",
       "      <th>PROJETO</th>\n",
       "      <th>MODO</th>\n",
       "      <th>IMP_INTER</th>\n",
       "      <th>CENARIO</th>\n",
       "      <th>PERIODO</th>\n",
       "      <th>DADO_BASE</th>\n",
       "      <th>TIP_SITUAC</th>\n",
       "      <th>BITOLA</th>\n",
       "      <th>...</th>\n",
       "      <th>municipio</th>\n",
       "      <th>id</th>\n",
       "      <th>uf</th>\n",
       "      <th>label</th>\n",
       "      <th>nome</th>\n",
       "      <th>extensao</th>\n",
       "      <th>st_length_</th>\n",
       "      <th>valores</th>\n",
       "      <th>label_indicador</th>\n",
       "      <th>label_estimativa</th>\n",
       "    </tr>\n",
       "  </thead>\n",
       "  <tbody>\n",
       "    <tr>\n",
       "      <th>0</th>\n",
       "      <td>1</td>\n",
       "      <td>1.0</td>\n",
       "      <td>AdaptVIAS (2022)</td>\n",
       "      <td>FERROVIÁRIO</td>\n",
       "      <td>DESLIZAMENTO - Exposição</td>\n",
       "      <td>Período Base</td>\n",
       "      <td>1981 - 2000</td>\n",
       "      <td>Ferrovias_MINFRA</td>\n",
       "      <td>Em Operação</td>\n",
       "      <td>Larga</td>\n",
       "      <td>...</td>\n",
       "      <td>Alto Araguaia</td>\n",
       "      <td>1792</td>\n",
       "      <td>MT</td>\n",
       "      <td>None</td>\n",
       "      <td>Rumo Malha Norte - RMN</td>\n",
       "      <td>85.559378</td>\n",
       "      <td>0.791396</td>\n",
       "      <td>0.25</td>\n",
       "      <td>0.01 a 0.25</td>\n",
       "      <td>0.01 a 0.25</td>\n",
       "    </tr>\n",
       "    <tr>\n",
       "      <th>2403</th>\n",
       "      <td>2404</td>\n",
       "      <td>2404.0</td>\n",
       "      <td>AdaptVIAS (2022)</td>\n",
       "      <td>FERROVIÁRIO</td>\n",
       "      <td>DESLIZAMENTO - Exposição</td>\n",
       "      <td>Período Base</td>\n",
       "      <td>1981 - 2000</td>\n",
       "      <td>Ferrovias_MINFRA</td>\n",
       "      <td>Em Operação</td>\n",
       "      <td>Larga</td>\n",
       "      <td>...</td>\n",
       "      <td>Alto Araguaia</td>\n",
       "      <td>1792</td>\n",
       "      <td>MT</td>\n",
       "      <td>None</td>\n",
       "      <td>Rumo Malha Norte - RMN</td>\n",
       "      <td>85.559378</td>\n",
       "      <td>0.791396</td>\n",
       "      <td>0.25</td>\n",
       "      <td>0.01 a 0.25</td>\n",
       "      <td>0.01 a 0.25</td>\n",
       "    </tr>\n",
       "    <tr>\n",
       "      <th>2730</th>\n",
       "      <td>2731</td>\n",
       "      <td>2731.0</td>\n",
       "      <td>AdaptVIAS (2022)</td>\n",
       "      <td>FERROVIÁRIO</td>\n",
       "      <td>DESLIZAMENTO - Exposição</td>\n",
       "      <td>Período Base</td>\n",
       "      <td>1981 - 2000</td>\n",
       "      <td>Ferrovias_MINFRA</td>\n",
       "      <td>Em Operação</td>\n",
       "      <td>Larga</td>\n",
       "      <td>...</td>\n",
       "      <td>Alto Araguaia</td>\n",
       "      <td>1792</td>\n",
       "      <td>MT</td>\n",
       "      <td>None</td>\n",
       "      <td>Rumo Malha Norte - RMN</td>\n",
       "      <td>85.559378</td>\n",
       "      <td>0.791396</td>\n",
       "      <td>0.25</td>\n",
       "      <td>0.01 a 0.25</td>\n",
       "      <td>0.01 a 0.25</td>\n",
       "    </tr>\n",
       "    <tr>\n",
       "      <th>1</th>\n",
       "      <td>2</td>\n",
       "      <td>2.0</td>\n",
       "      <td>AdaptVIAS (2022)</td>\n",
       "      <td>FERROVIÁRIO</td>\n",
       "      <td>DESLIZAMENTO - Exposição</td>\n",
       "      <td>Período Base</td>\n",
       "      <td>1981 - 2000</td>\n",
       "      <td>Ferrovias_MINFRA</td>\n",
       "      <td>Em Operação</td>\n",
       "      <td>Larga</td>\n",
       "      <td>...</td>\n",
       "      <td>Chapadão do Sul</td>\n",
       "      <td>1811</td>\n",
       "      <td>MS</td>\n",
       "      <td>None</td>\n",
       "      <td>Rumo Malha Norte - RMN</td>\n",
       "      <td>57.422988</td>\n",
       "      <td>0.536180</td>\n",
       "      <td>0.25</td>\n",
       "      <td>0.01 a 0.25</td>\n",
       "      <td>0.01 a 0.25</td>\n",
       "    </tr>\n",
       "    <tr>\n",
       "      <th>2737</th>\n",
       "      <td>2738</td>\n",
       "      <td>2738.0</td>\n",
       "      <td>AdaptVIAS (2022)</td>\n",
       "      <td>FERROVIÁRIO</td>\n",
       "      <td>DESLIZAMENTO - Exposição</td>\n",
       "      <td>Período Base</td>\n",
       "      <td>1981 - 2000</td>\n",
       "      <td>Ferrovias_MINFRA</td>\n",
       "      <td>Em Operação</td>\n",
       "      <td>Larga</td>\n",
       "      <td>...</td>\n",
       "      <td>Chapadão do Sul</td>\n",
       "      <td>1811</td>\n",
       "      <td>MS</td>\n",
       "      <td>None</td>\n",
       "      <td>Rumo Malha Norte - RMN</td>\n",
       "      <td>57.422988</td>\n",
       "      <td>0.536180</td>\n",
       "      <td>0.25</td>\n",
       "      <td>0.01 a 0.25</td>\n",
       "      <td>0.01 a 0.25</td>\n",
       "    </tr>\n",
       "  </tbody>\n",
       "</table>\n",
       "<p>5 rows × 35 columns</p>\n",
       "</div>"
      ],
      "text/plain": [
       "        ID    ID_1           PROJETO         MODO                 IMP_INTER  \\\n",
       "0        1     1.0  AdaptVIAS (2022)  FERROVIÁRIO  DESLIZAMENTO - Exposição   \n",
       "2403  2404  2404.0  AdaptVIAS (2022)  FERROVIÁRIO  DESLIZAMENTO - Exposição   \n",
       "2730  2731  2731.0  AdaptVIAS (2022)  FERROVIÁRIO  DESLIZAMENTO - Exposição   \n",
       "1        2     2.0  AdaptVIAS (2022)  FERROVIÁRIO  DESLIZAMENTO - Exposição   \n",
       "2737  2738  2738.0  AdaptVIAS (2022)  FERROVIÁRIO  DESLIZAMENTO - Exposição   \n",
       "\n",
       "           CENARIO      PERIODO         DADO_BASE   TIP_SITUAC BITOLA  ...  \\\n",
       "0     Período Base  1981 - 2000  Ferrovias_MINFRA  Em Operação  Larga  ...   \n",
       "2403  Período Base  1981 - 2000  Ferrovias_MINFRA  Em Operação  Larga  ...   \n",
       "2730  Período Base  1981 - 2000  Ferrovias_MINFRA  Em Operação  Larga  ...   \n",
       "1     Período Base  1981 - 2000  Ferrovias_MINFRA  Em Operação  Larga  ...   \n",
       "2737  Período Base  1981 - 2000  Ferrovias_MINFRA  Em Operação  Larga  ...   \n",
       "\n",
       "            municipio    id  uf label                    nome   extensao  \\\n",
       "0       Alto Araguaia  1792  MT  None  Rumo Malha Norte - RMN  85.559378   \n",
       "2403    Alto Araguaia  1792  MT  None  Rumo Malha Norte - RMN  85.559378   \n",
       "2730    Alto Araguaia  1792  MT  None  Rumo Malha Norte - RMN  85.559378   \n",
       "1     Chapadão do Sul  1811  MS  None  Rumo Malha Norte - RMN  57.422988   \n",
       "2737  Chapadão do Sul  1811  MS  None  Rumo Malha Norte - RMN  57.422988   \n",
       "\n",
       "     st_length_  valores label_indicador  label_estimativa  \n",
       "0      0.791396     0.25     0.01 a 0.25       0.01 a 0.25  \n",
       "2403   0.791396     0.25     0.01 a 0.25       0.01 a 0.25  \n",
       "2730   0.791396     0.25     0.01 a 0.25       0.01 a 0.25  \n",
       "1      0.536180     0.25     0.01 a 0.25       0.01 a 0.25  \n",
       "2737   0.536180     0.25     0.01 a 0.25       0.01 a 0.25  \n",
       "\n",
       "[5 rows x 35 columns]"
      ]
     },
     "execution_count": 64,
     "metadata": {},
     "output_type": "execute_result"
    }
   ],
   "source": [
    "intersecao.head()"
   ]
  },
  {
   "cell_type": "markdown",
   "metadata": {
    "collapsed": false
   },
   "source": [
    "##### Gera e salva a matriz de confusão."
   ]
  },
  {
   "cell_type": "code",
   "execution_count": 75,
   "metadata": {
    "collapsed": false
   },
   "outputs": [
    {
     "data": {
      "text/plain": [
       "<Figure size 800x600 with 0 Axes>"
      ]
     },
     "metadata": {},
     "output_type": "display_data"
    }
   ],
   "source": [
    "matrizConfusao(intersecao['label_indicador'],\n",
    "               intersecao['label_estimativa'],\n",
    "               CONFUSION_LABELS,\n",
    "               nome_indicador)"
   ]
  }
 ],
 "metadata": {
  "kernelspec": {
   "display_name": "Python 3",
   "language": "python",
   "name": "python3"
  },
  "language_info": {
   "codemirror_mode": {
    "name": "ipython",
    "version": 2
   },
   "file_extension": ".py",
   "mimetype": "text/x-python",
   "name": "python",
   "nbconvert_exporter": "python",
   "pygments_lexer": "ipython2",
   "version": "2.7.6"
  }
 },
 "nbformat": 4,
 "nbformat_minor": 0
}
